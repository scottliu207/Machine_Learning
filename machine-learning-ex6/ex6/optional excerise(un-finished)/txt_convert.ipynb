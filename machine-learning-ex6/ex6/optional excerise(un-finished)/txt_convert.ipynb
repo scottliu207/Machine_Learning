{
 "cells": [
  {
   "cell_type": "code",
   "execution_count": 1,
   "metadata": {},
   "outputs": [],
   "source": [
    "import os"
   ]
  },
  {
   "cell_type": "code",
   "execution_count": 14,
   "metadata": {},
   "outputs": [],
   "source": [
    "# set path to the folder which contains spam email exsamples.\n",
    "path = 'C:/Users/xoccm/20050311_spam_2/spam_2'"
   ]
  },
  {
   "cell_type": "code",
   "execution_count": 15,
   "metadata": {},
   "outputs": [],
   "source": [
    "# Create path to save .txt file after conterting.\n",
    "txt_path = 'C:/Users/xoccm/20050311_spam_2/txt'"
   ]
  },
  {
   "cell_type": "code",
   "execution_count": 17,
   "metadata": {},
   "outputs": [],
   "source": [
    "# Changing working directory to where contains spam email examples.\n",
    "os.chdir(path)\n",
    "# Listing examples out.\n",
    "spamEmail_list = os.listdir()\n",
    "# Creating a empty list for email content.\n",
    "content_list = []"
   ]
  },
  {
   "cell_type": "code",
   "execution_count": 18,
   "metadata": {},
   "outputs": [],
   "source": [
    "# Read each email content and save it to content_list.\n",
    "for i in spamEmail_list:\n",
    "    with open(i, 'r',encoding=\"utf-8\", errors='ignore') as file:\n",
    "        email_content = file.read()\n",
    "        content_list.append(email_content)"
   ]
  },
  {
   "cell_type": "code",
   "execution_count": 28,
   "metadata": {},
   "outputs": [],
   "source": [
    "# Check if our txt_path is existed or not, if it is not, create a new folder for txt to store.\n",
    "if not os.path.exists(txt_path):\n",
    "    os.mkdir(txt_path)\n",
    "# Changing to where we want to store after converting.    \n",
    "os.chdir(txt_path)"
   ]
  },
  {
   "cell_type": "code",
   "execution_count": 31,
   "metadata": {},
   "outputs": [],
   "source": [
    "# Saving the content from content_list to .txt file, name will be from 1 to max amount of examples.\n",
    "count = 1\n",
    "for j in content_list:\n",
    "    with open(str(count)+'.txt', 'w', encoding='utf-8') as file:\n",
    "        file.write(j)\n",
    "    count += 1"
   ]
  },
  {
   "cell_type": "code",
   "execution_count": 30,
   "metadata": {},
   "outputs": [
    {
     "data": {
      "text/plain": [
       "1397"
      ]
     },
     "execution_count": 30,
     "metadata": {},
     "output_type": "execute_result"
    }
   ],
   "source": []
  },
  {
   "cell_type": "code",
   "execution_count": null,
   "metadata": {},
   "outputs": [],
   "source": []
  }
 ],
 "metadata": {
  "kernelspec": {
   "display_name": "Python 3",
   "language": "python",
   "name": "python3"
  },
  "language_info": {
   "codemirror_mode": {
    "name": "ipython",
    "version": 3
   },
   "file_extension": ".py",
   "mimetype": "text/x-python",
   "name": "python",
   "nbconvert_exporter": "python",
   "pygments_lexer": "ipython3",
   "version": "3.7.7"
  }
 },
 "nbformat": 4,
 "nbformat_minor": 4
}
